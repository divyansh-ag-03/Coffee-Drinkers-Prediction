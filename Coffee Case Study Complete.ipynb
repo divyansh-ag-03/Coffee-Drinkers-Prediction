{
 "cells": [
  {
   "cell_type": "markdown",
   "id": "026cdc39",
   "metadata": {},
   "source": [
    "# Problem"
   ]
  },
  {
   "cell_type": "markdown",
   "id": "d92033b3",
   "metadata": {},
   "source": [
    "A coffee manufacturer is interested in estimating the difference in the average daily coffee consumption of regular-coffee drinkers and decaffeinated-coffee drinkers. Its researcher randomly selects 13 regular-coffee drinkers and asks how many cups of coffee per day they drink. He randomly locates 15 decaffeinated-coffee drinkers and asks how many cups of coffee per day they drink. The average for the regular-coffee drinkers is 4.35 cups, with a standard deviation of 1.20 cups. The average for the decaffeinated-coffee drinkers is 6.84 cups, with a standard deviation of 1.42 cups. The researcher assumes, for each population, that the daily consumption is normally distributed."
   ]
  },
  {
   "cell_type": "markdown",
   "id": "b76bc1fa",
   "metadata": {},
   "source": [
    "# To Find"
   ]
  },
  {
   "cell_type": "markdown",
   "id": "5712d3a3",
   "metadata": {},
   "source": [
    "Task 1\tCalculate the mean and standard deviation of the dataset <br>\n",
    "Task 2\tDetermine the appropriate statistic to use<br>\n",
    "Task 3\tCalculate the 95% confidence interval to estimate the differences in the avreages of the two populations.<br>\n",
    "Task 4\tInterpret the result<br>\n"
   ]
  },
  {
   "cell_type": "markdown",
   "id": "bebd8164",
   "metadata": {},
   "source": [
    "# Solutions"
   ]
  },
  {
   "cell_type": "markdown",
   "id": "6c2d6c18",
   "metadata": {},
   "source": [
    "# Given"
   ]
  },
  {
   "cell_type": "code",
   "execution_count": 19,
   "id": "b4ab8349",
   "metadata": {},
   "outputs": [],
   "source": [
    "#Sample statistics for regular-coffee drinkers\n",
    "\n",
    "n_reg_coffee = 13\n",
    "avg_reg_coffee = 4.35\n",
    "std_reg_coffee = 1.20\n",
    "\n",
    "#Sample statistics for decaffeinated-coffee drinkers\n",
    "\n",
    "n_decaf_coffee = 15\n",
    "avg_decaf_coffee = 6.84\n",
    "std_decaf_coffee = 1.42\n",
    "\n",
    "#Daily consumption is normally distributed"
   ]
  },
  {
   "cell_type": "markdown",
   "id": "7dcf5134",
   "metadata": {},
   "source": [
    "# Task 2"
   ]
  },
  {
   "cell_type": "markdown",
   "id": "912ac8fd",
   "metadata": {},
   "source": [
    "**The appropriate statistic to use for the given coffee question is a two-sample t-test. This is because we are comparing the means of two independent groups (regular-coffee drinkers and decaffeinated-coffee drinkers) with continuous data (number of cups of coffee per day). Additionally, we are assuming that the daily consumption of coffee is normally distributed for each population, which satisfies the assumptions for using a t-test.**"
   ]
  },
  {
   "cell_type": "markdown",
   "id": "8b943eff",
   "metadata": {},
   "source": [
    "# Task 3"
   ]
  },
  {
   "cell_type": "code",
   "execution_count": 20,
   "id": "dbb0741e",
   "metadata": {},
   "outputs": [
    {
     "name": "stdout",
     "output_type": "stream",
     "text": [
      "95% confidence interval for difference in average of 2 populations is: (-3.520505338977948, -1.4594946610220523)\n"
     ]
    }
   ],
   "source": [
    "import numpy as np\n",
    "from scipy.stats import t\n",
    "\n",
    "#Pooled standard deviation\n",
    "pooled_std = np.sqrt(((n_reg_coffee-1)*(std_reg_coffee**2) + (n_decaf_coffee-1)*(std_decaf_coffee**2)) / (n_reg_coffee+n_decaf_coffee-2))\n",
    "\n",
    "#t-value for 95% confidence interval\n",
    "alpha = 0.05                              #Tolerance\n",
    "df = n_reg_coffee + n_decaf_coffee - 2    #Degrees of freedom\n",
    "t_crit = t.ppf(1 - alpha/2, df)           #Critical t-value using Percent Point Function(t.ppf)\n",
    "\n",
    "#Required confidence interval\n",
    "diff = avg_reg_coffee - avg_decaf_coffee\n",
    "std_error = pooled_std * np.sqrt(1/n_reg_coffee + 1/n_decaf_coffee)\n",
    "lower = diff - t_crit * std_error\n",
    "upper = diff + t_crit * std_error\n",
    "\n",
    "print(\"95% confidence interval for difference in average of 2 populations is:\", (lower, upper))"
   ]
  },
  {
   "cell_type": "markdown",
   "id": "46524187",
   "metadata": {},
   "source": [
    "# Task 4"
   ]
  },
  {
   "cell_type": "markdown",
   "id": "992e3c26",
   "metadata": {},
   "source": [
    "**The 95% confidence interval calculated for the difference in the average daily coffee consumption between regular-coffee drinkers and decaffeinated-coffee drinkers is (-3.520505338977948, -1.4594946610220523) cups of coffee per day.**\n",
    "\n",
    "This means that we can be 95% confident that the true difference in the average daily coffee consumption between the two groups falls within this range. We can say that we are 95% confident that decaffeinated-coffee drinkers consume between 1.45 and 3.52 cups of coffee per day more on average than regular-coffee drinkers.\n",
    "\n",
    "Since the confidence interval does not include zero, we can conclude that the difference in the average daily coffee consumption between the two groups is statistically significant at the 0.05 level of significance. This suggests that decaffeinated-coffee drinkers may consume significantly more coffee on average than regular-coffee drinkers. However, **it is important to note that this is based on a sample of individuals and not the entire population of regular-coffee drinkers and decaffeinated-coffee drinkers**, so we should exercise caution when generalizing these results.\n",
    "\n",
    "If we would have done the exercise on all of the population, the difference could have been more exact. As in our case the **difference is quiet huge i.e. 3.52 - 1.45 = 2.07 cups.**"
   ]
  },
  {
   "cell_type": "markdown",
   "id": "11b9a589",
   "metadata": {},
   "source": [
    "# Optional Task"
   ]
  },
  {
   "cell_type": "markdown",
   "id": "1888829a",
   "metadata": {},
   "source": [
    "# 90% CI"
   ]
  },
  {
   "cell_type": "code",
   "execution_count": 21,
   "id": "32f7e3e8",
   "metadata": {},
   "outputs": [
    {
     "name": "stdout",
     "output_type": "stream",
     "text": [
      "90% confidence interval for difference in average of 2 populations is: (-3.345083045528577, -1.6349169544714235)\n"
     ]
    }
   ],
   "source": [
    "#t-value for 90% confidence interval\n",
    "alpha = 0.10                              #Tolerance\n",
    "df = n_reg_coffee + n_decaf_coffee - 2    #Degrees of freedom\n",
    "t_crit = t.ppf(1 - alpha/2, df)           #Critical t-value using Percent Point Function(t.ppf)\n",
    "\n",
    "#Required confidence interval\n",
    "diff = avg_reg_coffee - avg_decaf_coffee\n",
    "std_error = pooled_std * np.sqrt(1/n_reg_coffee + 1/n_decaf_coffee)\n",
    "lower = diff - t_crit * std_error\n",
    "upper = diff + t_crit * std_error\n",
    "\n",
    "print(\"90% confidence interval for difference in average of 2 populations is:\", (lower, upper))"
   ]
  },
  {
   "cell_type": "markdown",
   "id": "3502a41b",
   "metadata": {},
   "source": [
    "**By finding 90% Confidence Interval, we found that the difference is reduced as we are only 90% sure of this found value.**"
   ]
  },
  {
   "cell_type": "markdown",
   "id": "9b95e264",
   "metadata": {},
   "source": [
    "# 99% CI"
   ]
  },
  {
   "cell_type": "code",
   "execution_count": 22,
   "id": "3ec1ce3b",
   "metadata": {},
   "outputs": [
    {
     "name": "stdout",
     "output_type": "stream",
     "text": [
      "99% confidence interval for difference in average of 2 populations is: (-3.883062102764934, -1.096937897235066)\n"
     ]
    }
   ],
   "source": [
    "#t-value for 99% confidence interval\n",
    "alpha = 0.01                             #Tolerance\n",
    "df = n_reg_coffee + n_decaf_coffee - 2    #Degrees of freedom\n",
    "t_crit = t.ppf(1 - alpha/2, df)           #Critical t-value using Percent Point Function(t.ppf)\n",
    "\n",
    "#Required confidence interval\n",
    "diff = avg_reg_coffee - avg_decaf_coffee\n",
    "std_error = pooled_std * np.sqrt(1/n_reg_coffee + 1/n_decaf_coffee)\n",
    "lower = diff - t_crit * std_error\n",
    "upper = diff + t_crit * std_error\n",
    "\n",
    "print(\"99% confidence interval for difference in average of 2 populations is:\", (lower, upper))"
   ]
  },
  {
   "cell_type": "markdown",
   "id": "2b0d3766",
   "metadata": {},
   "source": [
    "**By finding 99% Confidence Interval, we found that the difference is increased as we are 99% sure of this found value.**"
   ]
  },
  {
   "cell_type": "code",
   "execution_count": null,
   "id": "cbbd0105",
   "metadata": {},
   "outputs": [],
   "source": []
  }
 ],
 "metadata": {
  "kernelspec": {
   "display_name": "Python 3 (ipykernel)",
   "language": "python",
   "name": "python3"
  },
  "language_info": {
   "codemirror_mode": {
    "name": "ipython",
    "version": 3
   },
   "file_extension": ".py",
   "mimetype": "text/x-python",
   "name": "python",
   "nbconvert_exporter": "python",
   "pygments_lexer": "ipython3",
   "version": "3.9.12"
  }
 },
 "nbformat": 4,
 "nbformat_minor": 5
}
